{
  "nbformat": 4,
  "nbformat_minor": 0,
  "metadata": {
    "colab": {
      "provenance": [],
      "include_colab_link": true
    },
    "kernelspec": {
      "name": "python3",
      "display_name": "Python 3"
    },
    "language_info": {
      "name": "python"
    }
  },
  "cells": [
    {
      "cell_type": "markdown",
      "metadata": {
        "id": "view-in-github",
        "colab_type": "text"
      },
      "source": [
        "<a href=\"https://colab.research.google.com/github/SiyiGit/github_actions/blob/main/CNN_model%2004152024.ipynb\" target=\"_parent\"><img src=\"https://colab.research.google.com/assets/colab-badge.svg\" alt=\"Open In Colab\"/></a>"
      ]
    },
    {
      "cell_type": "code",
      "source": [],
      "metadata": {
        "id": "F4q5MtcfG9A3"
      },
      "execution_count": null,
      "outputs": []
    },
    {
      "cell_type": "code",
      "execution_count": 2,
      "metadata": {
        "id": "W1FNX7eEIU8F",
        "colab": {
          "base_uri": "https://localhost:8080/"
        },
        "outputId": "0ded1f0e-c12c-45f0-b3be-5be4a699c678"
      },
      "outputs": [
        {
          "output_type": "stream",
          "name": "stdout",
          "text": [
            "Collecting opendatasets\n",
            "  Downloading opendatasets-0.1.22-py3-none-any.whl (15 kB)\n",
            "Requirement already satisfied: tqdm in /usr/local/lib/python3.10/dist-packages (from opendatasets) (4.66.2)\n",
            "Requirement already satisfied: kaggle in /usr/local/lib/python3.10/dist-packages (from opendatasets) (1.5.16)\n",
            "Requirement already satisfied: click in /usr/local/lib/python3.10/dist-packages (from opendatasets) (8.1.7)\n",
            "Requirement already satisfied: six>=1.10 in /usr/local/lib/python3.10/dist-packages (from kaggle->opendatasets) (1.16.0)\n",
            "Requirement already satisfied: certifi in /usr/local/lib/python3.10/dist-packages (from kaggle->opendatasets) (2024.2.2)\n",
            "Requirement already satisfied: python-dateutil in /usr/local/lib/python3.10/dist-packages (from kaggle->opendatasets) (2.8.2)\n",
            "Requirement already satisfied: requests in /usr/local/lib/python3.10/dist-packages (from kaggle->opendatasets) (2.31.0)\n",
            "Requirement already satisfied: python-slugify in /usr/local/lib/python3.10/dist-packages (from kaggle->opendatasets) (8.0.4)\n",
            "Requirement already satisfied: urllib3 in /usr/local/lib/python3.10/dist-packages (from kaggle->opendatasets) (2.0.7)\n",
            "Requirement already satisfied: bleach in /usr/local/lib/python3.10/dist-packages (from kaggle->opendatasets) (6.1.0)\n",
            "Requirement already satisfied: webencodings in /usr/local/lib/python3.10/dist-packages (from bleach->kaggle->opendatasets) (0.5.1)\n",
            "Requirement already satisfied: text-unidecode>=1.3 in /usr/local/lib/python3.10/dist-packages (from python-slugify->kaggle->opendatasets) (1.3)\n",
            "Requirement already satisfied: charset-normalizer<4,>=2 in /usr/local/lib/python3.10/dist-packages (from requests->kaggle->opendatasets) (3.3.2)\n",
            "Requirement already satisfied: idna<4,>=2.5 in /usr/local/lib/python3.10/dist-packages (from requests->kaggle->opendatasets) (3.6)\n",
            "Installing collected packages: opendatasets\n",
            "Successfully installed opendatasets-0.1.22\n"
          ]
        }
      ],
      "source": [
        "#install opendatasets\n",
        "!pip install opendatasets"
      ]
    },
    {
      "cell_type": "code",
      "source": [
        "#import libraries\n",
        "import opendatasets as od\n",
        "import numpy as np\n",
        "import pandas as pd\n",
        "import matplotlib.pyplot as plt\n",
        "from matplotlib.image import imread\n",
        "import cv2\n",
        "import random\n",
        "import os\n",
        "from os import listdir\n",
        "from PIL import Image\n",
        "import seaborn as sns"
      ],
      "metadata": {
        "id": "oOa391t78Nd-"
      },
      "execution_count": 3,
      "outputs": []
    },
    {
      "cell_type": "code",
      "source": [
        "#kaggle dataset download\n",
        "od.download(\"https://www.kaggle.com/datasets/vipoooool/new-plant-diseases-dataset\")"
      ],
      "metadata": {
        "colab": {
          "base_uri": "https://localhost:8080/"
        },
        "id": "IdfK_dQD8Xqr",
        "outputId": "c706c303-c839-46ed-b4e3-c3474cb92909"
      },
      "execution_count": 4,
      "outputs": [
        {
          "output_type": "stream",
          "name": "stdout",
          "text": [
            "Please provide your Kaggle credentials to download this dataset. Learn more: http://bit.ly/kaggle-creds\n",
            "Your Kaggle username: alicjasosialuk\n",
            "Your Kaggle Key: ··········\n",
            "Downloading new-plant-diseases-dataset.zip to ./new-plant-diseases-dataset\n"
          ]
        },
        {
          "output_type": "stream",
          "name": "stderr",
          "text": [
            "100%|██████████| 2.70G/2.70G [00:27<00:00, 105MB/s]\n"
          ]
        },
        {
          "output_type": "stream",
          "name": "stdout",
          "text": [
            "\n"
          ]
        }
      ]
    },
    {
      "cell_type": "code",
      "source": [
        "#just for info{\"username\":\"alicjasosialuk\",\"key\":\"fa69bfa4724b0a10006ba687db303759\"}"
      ],
      "metadata": {
        "id": "Nk6R77YIPEFj"
      },
      "execution_count": 5,
      "outputs": []
    },
    {
      "cell_type": "code",
      "source": [
        "#path to datasets\n",
        "data_dir_train = './new-plant-diseases-dataset/New Plant Diseases Dataset(Augmented)/New Plant Diseases Dataset(Augmented)/train'\n",
        "data_dir_val = './new-plant-diseases-dataset/New Plant Diseases Dataset(Augmented)/New Plant Diseases Dataset(Augmented)/valid'\n",
        "data_dir_test = './new-plant-diseases-dataset/test/test'"
      ],
      "metadata": {
        "id": "krbYLZMeUtZG"
      },
      "execution_count": 6,
      "outputs": []
    },
    {
      "cell_type": "code",
      "source": [
        "## Defining batch specfications\n",
        "batch_size = 200\n",
        "img_height = 100\n",
        "img_width = 100"
      ],
      "metadata": {
        "id": "GKQvZKDTwL6E"
      },
      "execution_count": 7,
      "outputs": []
    },
    {
      "cell_type": "code",
      "source": [
        "import tensorflow as tf\n",
        "from tensorflow.keras.layers import Input, Dense, Dropout, Flatten, MaxPooling2D, Conv2D, Activation, BatchNormalization\n",
        "from tensorflow.keras.models import Model, Sequential\n",
        "from tensorflow.keras.utils import to_categorical\n",
        "from tensorflow.keras.optimizers import Adam\n",
        "from tensorflow.keras.losses import CategoricalCrossentropy\n",
        "from tensorflow.keras.regularizers import l2\n",
        "from tensorflow.keras.callbacks import ReduceLROnPlateau, EarlyStopping\n",
        "\n",
        "from sklearn import metrics"
      ],
      "metadata": {
        "id": "5WptUkIxwyhr"
      },
      "execution_count": 8,
      "outputs": []
    },
    {
      "cell_type": "code",
      "source": [
        "# Loading training set\n",
        "from tensorflow.keras.preprocessing.image import ImageDataGenerator\n",
        "train_datagen = ImageDataGenerator(rescale=1.0/255,\n",
        "                                  zoom_range=0.2,\n",
        "                                  width_shift_range=0.2,\n",
        "                                  height_shift_range=0.2,\n",
        "                                  fill_mode='nearest')\n",
        "train_data = train_datagen.flow_from_directory(data_dir_train,\n",
        "                                              batch_size=batch_size,\n",
        "                                              target_size=(img_height, img_width),\n",
        "                                              class_mode = 'categorical',\n",
        "                                              shuffle=True)"
      ],
      "metadata": {
        "colab": {
          "base_uri": "https://localhost:8080/"
        },
        "id": "GHVLwN2rwL90",
        "outputId": "e5fd17ad-b34f-4f43-ee6b-79fd82405363"
      },
      "execution_count": 9,
      "outputs": [
        {
          "output_type": "stream",
          "name": "stdout",
          "text": [
            "Found 70295 images belonging to 38 classes.\n"
          ]
        }
      ]
    },
    {
      "cell_type": "code",
      "source": [
        "## loading validation set\n",
        "valdata_generator=tf.keras.preprocessing.image.ImageDataGenerator(rescale=1./255)\n",
        "val_data = valdata_generator.flow_from_directory(data_dir_val,\n",
        "                                            batch_size=batch_size,\n",
        "                                            target_size=(img_height, img_width),\n",
        "                                            class_mode = 'categorical',\n",
        "                                            shuffle=False)"
      ],
      "metadata": {
        "colab": {
          "base_uri": "https://localhost:8080/"
        },
        "id": "Kc8XzYiWwMBU",
        "outputId": "a2d40008-6765-4f06-edea-562e516e8a13"
      },
      "execution_count": 10,
      "outputs": [
        {
          "output_type": "stream",
          "name": "stdout",
          "text": [
            "Found 17572 images belonging to 38 classes.\n"
          ]
        }
      ]
    },
    {
      "cell_type": "code",
      "source": [
        "## Defining model layers\n",
        "#inputs = Input(shape = (256, 256,3), name = \"Input\")\n",
        "\n",
        "#first_layer = Conv2D(filters = 32,\n",
        "#                     kernel_size = (5, 5),\n",
        "#                     padding = 'valid',\n",
        "#                     activation = 'relu')\n",
        "\n",
        "#second_layer = MaxPooling2D(pool_size = (2, 2))\n",
        "\n",
        "#third_layer = Dropout(rate = 0.2)\n",
        "\n",
        "#fourth_layer = Flatten()\n",
        "\n",
        "#fifth_layer = Dense(units = 128,\n",
        "#                    activation = 'relu')\n",
        "\n",
        "#output_layer = Dense(units = 38,\n",
        "                     activation='softmax')\n",
        "\n",
        "#x=first_layer(inputs)\n",
        "#x=second_layer(x)\n",
        "#x=third_layer(x)\n",
        "#x=fourth_layer(x)\n",
        "#x=fifth_layer(x)\n",
        "\n",
        "#outputs=output_layer(x)\n",
        "\n",
        "#cnn_model = Model(inputs = inputs, outputs = outputs)\n",
        "\n"
      ],
      "metadata": {
        "id": "L1S328RuwMFF"
      },
      "execution_count": null,
      "outputs": []
    },
    {
      "cell_type": "code",
      "source": [
        "def create_model():\n",
        "    model = Sequential([\n",
        "        Conv2D(filters=64, kernel_size=(5, 5), padding='valid', input_shape=(img_width, img_height, 3)),\n",
        "        Activation('relu'),\n",
        "        MaxPooling2D(pool_size=(2, 2)),\n",
        "        BatchNormalization(),\n",
        "\n",
        "        Conv2D(filters=64, kernel_size=(3, 3), padding='valid', kernel_regularizer=l2(0.00005)),\n",
        "        Activation('relu'),\n",
        "\n",
        "        MaxPooling2D(pool_size=(2, 2)),\n",
        "        BatchNormalization(),\n",
        "\n",
        "        Conv2D(filters=32, kernel_size=(3, 3), padding='valid', kernel_regularizer=l2(0.00005)),\n",
        "        Activation('relu'),\n",
        "        MaxPooling2D(pool_size=(2, 2)),\n",
        "        BatchNormalization(),\n",
        "\n",
        "        Flatten(),\n",
        "\n",
        "        Dense(units=256, activation='relu'),\n",
        "        Dropout(0.5),\n",
        "        Dense(units=128, activation='relu'),\n",
        "        Dropout(0.5),\n",
        "        Dense(units=38, activation='sigmoid')\n",
        "    ])\n",
        "\n",
        "    return model"
      ],
      "metadata": {
        "id": "Cj9IJy4Ng05N"
      },
      "execution_count": 23,
      "outputs": []
    },
    {
      "cell_type": "code",
      "source": [
        "cnn_model = create_model()"
      ],
      "metadata": {
        "id": "uCObMs6-g7g2"
      },
      "execution_count": 24,
      "outputs": []
    },
    {
      "cell_type": "code",
      "source": [
        "cnn_model.compile(loss='categorical_crossentropy', # loss function\n",
        "                  optimizer='adam',                # gradien descent algorithm\n",
        "                  metrics=['accuracy'])           # accuracy metric)\n"
      ],
      "metadata": {
        "id": "VesNkrG5wMIp"
      },
      "execution_count": 25,
      "outputs": []
    },
    {
      "cell_type": "code",
      "source": [
        "print(cnn_model.summary())\n"
      ],
      "metadata": {
        "colab": {
          "base_uri": "https://localhost:8080/"
        },
        "id": "NAbAMz6EwgDU",
        "outputId": "6ad03f42-aa6f-40ed-9c40-caa2ddb2a93b"
      },
      "execution_count": 26,
      "outputs": [
        {
          "output_type": "stream",
          "name": "stdout",
          "text": [
            "Model: \"sequential_3\"\n",
            "_________________________________________________________________\n",
            " Layer (type)                Output Shape              Param #   \n",
            "=================================================================\n",
            " conv2d_7 (Conv2D)           (None, 96, 96, 64)        4864      \n",
            "                                                                 \n",
            " activation_7 (Activation)   (None, 96, 96, 64)        0         \n",
            "                                                                 \n",
            " max_pooling2d_7 (MaxPoolin  (None, 48, 48, 64)        0         \n",
            " g2D)                                                            \n",
            "                                                                 \n",
            " batch_normalization_7 (Bat  (None, 48, 48, 64)        256       \n",
            " chNormalization)                                                \n",
            "                                                                 \n",
            " conv2d_8 (Conv2D)           (None, 46, 46, 64)        36928     \n",
            "                                                                 \n",
            " activation_8 (Activation)   (None, 46, 46, 64)        0         \n",
            "                                                                 \n",
            " max_pooling2d_8 (MaxPoolin  (None, 23, 23, 64)        0         \n",
            " g2D)                                                            \n",
            "                                                                 \n",
            " batch_normalization_8 (Bat  (None, 23, 23, 64)        256       \n",
            " chNormalization)                                                \n",
            "                                                                 \n",
            " conv2d_9 (Conv2D)           (None, 21, 21, 32)        18464     \n",
            "                                                                 \n",
            " activation_9 (Activation)   (None, 21, 21, 32)        0         \n",
            "                                                                 \n",
            " max_pooling2d_9 (MaxPoolin  (None, 10, 10, 32)        0         \n",
            " g2D)                                                            \n",
            "                                                                 \n",
            " batch_normalization_9 (Bat  (None, 10, 10, 32)        128       \n",
            " chNormalization)                                                \n",
            "                                                                 \n",
            " flatten_3 (Flatten)         (None, 3200)              0         \n",
            "                                                                 \n",
            " dense_8 (Dense)             (None, 256)               819456    \n",
            "                                                                 \n",
            " dropout_5 (Dropout)         (None, 256)               0         \n",
            "                                                                 \n",
            " dense_9 (Dense)             (None, 128)               32896     \n",
            "                                                                 \n",
            " dropout_6 (Dropout)         (None, 128)               0         \n",
            "                                                                 \n",
            " dense_10 (Dense)            (None, 38)                4902      \n",
            "                                                                 \n",
            "=================================================================\n",
            "Total params: 918150 (3.50 MB)\n",
            "Trainable params: 917830 (3.50 MB)\n",
            "Non-trainable params: 320 (1.25 KB)\n",
            "_________________________________________________________________\n",
            "None\n"
          ]
        }
      ]
    },
    {
      "cell_type": "code",
      "source": [
        "training_history = cnn_model.fit(train_data,\n",
        "                                 validation_data= val_data,\n",
        "                                 epochs = 8,\n",
        "                                 batch_size = 200)"
      ],
      "metadata": {
        "colab": {
          "base_uri": "https://localhost:8080/"
        },
        "id": "jLWQwe_XwMME",
        "outputId": "1f0111d5-a2a5-4223-f579-012c609cde8d"
      },
      "execution_count": 27,
      "outputs": [
        {
          "output_type": "stream",
          "name": "stdout",
          "text": [
            "Epoch 1/8\n",
            "352/352 [==============================] - 2574s 7s/step - loss: 2.6063 - accuracy: 0.2920 - val_loss: 6.3391 - val_accuracy: 0.0913\n",
            "Epoch 2/8\n",
            "352/352 [==============================] - 2512s 7s/step - loss: 1.6347 - accuracy: 0.5193 - val_loss: 1.6489 - val_accuracy: 0.5393\n",
            "Epoch 3/8\n",
            "352/352 [==============================] - 2463s 7s/step - loss: 1.2563 - accuracy: 0.6252 - val_loss: 2.6156 - val_accuracy: 0.4182\n",
            "Epoch 4/8\n",
            "352/352 [==============================] - 2441s 7s/step - loss: 1.0215 - accuracy: 0.6941 - val_loss: 2.0112 - val_accuracy: 0.5393\n",
            "Epoch 5/8\n",
            "352/352 [==============================] - 2412s 7s/step - loss: 0.8652 - accuracy: 0.7426 - val_loss: 1.3034 - val_accuracy: 0.6577\n",
            "Epoch 6/8\n",
            "352/352 [==============================] - 2374s 7s/step - loss: 0.7549 - accuracy: 0.7762 - val_loss: 4.3143 - val_accuracy: 0.3617\n",
            "Epoch 7/8\n",
            "352/352 [==============================] - 2372s 7s/step - loss: 0.6669 - accuracy: 0.8038 - val_loss: 4.1201 - val_accuracy: 0.4521\n",
            "Epoch 8/8\n",
            "352/352 [==============================] - 2470s 7s/step - loss: 0.6151 - accuracy: 0.8180 - val_loss: 0.4470 - val_accuracy: 0.8619\n"
          ]
        }
      ]
    },
    {
      "cell_type": "code",
      "source": [
        "train_acc = training_history.history['accuracy']\n",
        "val_acc = training_history.history['val_accuracy']\n",
        "\n",
        "train_loss = training_history.history['loss']\n",
        "val_loss = training_history.history['val_loss']\n",
        "\n",
        "#learning_rate = training_history.history['lr']"
      ],
      "metadata": {
        "id": "Yl6B6DGvwMPp"
      },
      "execution_count": 29,
      "outputs": []
    },
    {
      "cell_type": "code",
      "source": [
        "plt.xlabel('Epochs')\n",
        "plt.ylabel('Accuracy')\n",
        "\n",
        "\n",
        "plt.plot(np.arange(1 , 9, 1),\n",
        "         train_acc,\n",
        "         label = 'Training Accuracy',\n",
        "         color = 'blue')\n",
        "\n",
        "\n",
        "plt.plot(np.arange(1 , 9, 1),\n",
        "         val_acc,\n",
        "         label = 'Validation Accuracy',\n",
        "         color = 'red')\n",
        "\n",
        "plt.legend()\n",
        "\n",
        "plt.show()"
      ],
      "metadata": {
        "id": "MJu-B_4XwMS_",
        "outputId": "e539db6c-762e-42cc-ac9a-79e1bedcdf0c",
        "colab": {
          "base_uri": "https://localhost:8080/",
          "height": 455
        }
      },
      "execution_count": 31,
      "outputs": [
        {
          "output_type": "display_data",
          "data": {
            "text/plain": [
              "<Figure size 640x480 with 1 Axes>"
            ],
            "image/png": "[encoded data removed]"
          },
          "metadata": {}
        }
      ]
    },
    {
      "cell_type": "code",
      "source": [
        "test_pred = cnn_model.predict(val_data)\n",
        "\n",
        "test_pred_class = test_pred.argmax(axis = 1)\n",
        "y_test_class =val_data.argmax(axis = 1)\n",
        "\n",
        "print(metrics.classification_report(y_test_class, test_pred_class))"
      ],
      "metadata": {
        "id": "cRinOrORwMXH",
        "outputId": "061f06b6-c58c-4878-dc68-1faf02a30bc2",
        "colab": {
          "base_uri": "https://localhost:8080/",
          "height": 228
        }
      },
      "execution_count": 33,
      "outputs": [
        {
          "output_type": "stream",
          "name": "stdout",
          "text": [
            "88/88 [==============================] - 159s 2s/step\n"
          ]
        },
        {
          "output_type": "error",
          "ename": "AttributeError",
          "evalue": "'DirectoryIterator' object has no attribute 'argmax'",
          "traceback": [
            "\u001b[0;31m---------------------------------------------------------------------------\u001b[0m",
            "\u001b[0;31mAttributeError\u001b[0m                            Traceback (most recent call last)",
            "\u001b[0;32m<ipython-input-33-648e18e1f81c>\u001b[0m in \u001b[0;36m<cell line: 4>\u001b[0;34m()\u001b[0m\n\u001b[1;32m      2\u001b[0m \u001b[0;34m\u001b[0m\u001b[0m\n\u001b[1;32m      3\u001b[0m \u001b[0mtest_pred_class\u001b[0m \u001b[0;34m=\u001b[0m \u001b[0mtest_pred\u001b[0m\u001b[0;34m.\u001b[0m\u001b[0margmax\u001b[0m\u001b[0;34m(\u001b[0m\u001b[0maxis\u001b[0m \u001b[0;34m=\u001b[0m \u001b[0;36m1\u001b[0m\u001b[0;34m)\u001b[0m\u001b[0;34m\u001b[0m\u001b[0;34m\u001b[0m\u001b[0m\n\u001b[0;32m----> 4\u001b[0;31m \u001b[0my_test_class\u001b[0m \u001b[0;34m=\u001b[0m\u001b[0mval_data\u001b[0m\u001b[0;34m.\u001b[0m\u001b[0margmax\u001b[0m\u001b[0;34m(\u001b[0m\u001b[0maxis\u001b[0m \u001b[0;34m=\u001b[0m \u001b[0;36m1\u001b[0m\u001b[0;34m)\u001b[0m\u001b[0;34m\u001b[0m\u001b[0;34m\u001b[0m\u001b[0m\n\u001b[0m\u001b[1;32m      5\u001b[0m \u001b[0;34m\u001b[0m\u001b[0m\n\u001b[1;32m      6\u001b[0m \u001b[0mprint\u001b[0m\u001b[0;34m(\u001b[0m\u001b[0mmetrics\u001b[0m\u001b[0;34m.\u001b[0m\u001b[0mclassification_report\u001b[0m\u001b[0;34m(\u001b[0m\u001b[0my_test_class\u001b[0m\u001b[0;34m,\u001b[0m \u001b[0mtest_pred_class\u001b[0m\u001b[0;34m)\u001b[0m\u001b[0;34m)\u001b[0m\u001b[0;34m\u001b[0m\u001b[0;34m\u001b[0m\u001b[0m\n",
            "\u001b[0;31mAttributeError\u001b[0m: 'DirectoryIterator' object has no attribute 'argmax'"
          ]
        }
      ]
    },
    {
      "cell_type": "code",
      "source": [
        "cnn_model.save(\"model.h5\")\n",
        "from tensorflow.keras.models import load_model\n",
        "\n",
        "cnn_model = load_model(\"/kaggle/working/model.h5\")"
      ],
      "metadata": {
        "id": "A4b6DhyeDUBd"
      },
      "execution_count": null,
      "outputs": []
    }
  ]
}