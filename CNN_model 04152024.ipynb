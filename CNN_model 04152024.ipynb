{
  "nbformat": 4,
  "nbformat_minor": 0,
  "metadata": {
    "colab": {
      "provenance": [],
      "include_colab_link": true
    },
    "kernelspec": {
      "name": "python3",
      "display_name": "Python 3"
    },
    "language_info": {
      "name": "python"
    }
  },
  "cells": [
    {
      "cell_type": "markdown",
      "metadata": {
        "id": "view-in-github",
        "colab_type": "text"
      },
      "source": [
        "<a href=\"https://colab.research.google.com/github/SiyiGit/github_actions/blob/main/CNN_model%2004152024.ipynb\" target=\"_parent\"><img src=\"https://colab.research.google.com/assets/colab-badge.svg\" alt=\"Open In Colab\"/></a>"
      ]
    },
    {
      "cell_type": "code",
      "source": [],
      "metadata": {
        "id": "F4q5MtcfG9A3"
      },
      "execution_count": null,
      "outputs": []
    },
    {
      "cell_type": "code",
      "execution_count": 1,
      "metadata": {
        "id": "W1FNX7eEIU8F",
        "colab": {
          "base_uri": "https://localhost:8080/"
        },
        "outputId": "8881876d-cc2d-40c9-cc4f-03ce115281d8"
      },
      "outputs": [
        {
          "output_type": "stream",
          "name": "stdout",
          "text": [
            "Collecting opendatasets\n",
            "  Downloading opendatasets-0.1.22-py3-none-any.whl (15 kB)\n",
            "Requirement already satisfied: tqdm in /usr/local/lib/python3.10/dist-packages (from opendatasets) (4.66.2)\n",
            "Requirement already satisfied: kaggle in /usr/local/lib/python3.10/dist-packages (from opendatasets) (1.5.16)\n",
            "Requirement already satisfied: click in /usr/local/lib/python3.10/dist-packages (from opendatasets) (8.1.7)\n",
            "Requirement already satisfied: six>=1.10 in /usr/local/lib/python3.10/dist-packages (from kaggle->opendatasets) (1.16.0)\n",
            "Requirement already satisfied: certifi in /usr/local/lib/python3.10/dist-packages (from kaggle->opendatasets) (2024.2.2)\n",
            "Requirement already satisfied: python-dateutil in /usr/local/lib/python3.10/dist-packages (from kaggle->opendatasets) (2.8.2)\n",
            "Requirement already satisfied: requests in /usr/local/lib/python3.10/dist-packages (from kaggle->opendatasets) (2.31.0)\n",
            "Requirement already satisfied: python-slugify in /usr/local/lib/python3.10/dist-packages (from kaggle->opendatasets) (8.0.4)\n",
            "Requirement already satisfied: urllib3 in /usr/local/lib/python3.10/dist-packages (from kaggle->opendatasets) (2.0.7)\n",
            "Requirement already satisfied: bleach in /usr/local/lib/python3.10/dist-packages (from kaggle->opendatasets) (6.1.0)\n",
            "Requirement already satisfied: webencodings in /usr/local/lib/python3.10/dist-packages (from bleach->kaggle->opendatasets) (0.5.1)\n",
            "Requirement already satisfied: text-unidecode>=1.3 in /usr/local/lib/python3.10/dist-packages (from python-slugify->kaggle->opendatasets) (1.3)\n",
            "Requirement already satisfied: charset-normalizer<4,>=2 in /usr/local/lib/python3.10/dist-packages (from requests->kaggle->opendatasets) (3.3.2)\n",
            "Requirement already satisfied: idna<4,>=2.5 in /usr/local/lib/python3.10/dist-packages (from requests->kaggle->opendatasets) (3.6)\n",
            "Installing collected packages: opendatasets\n",
            "Successfully installed opendatasets-0.1.22\n"
          ]
        }
      ],
      "source": [
        "#install opendatasets\n",
        "!pip install opendatasets"
      ]
    },
    {
      "cell_type": "code",
      "source": [
        "#import libraries\n",
        "import opendatasets as od\n",
        "import numpy as np\n",
        "import pandas as pd\n",
        "import matplotlib.pyplot as plt\n",
        "from matplotlib.image import imread\n",
        "import cv2\n",
        "import random\n",
        "import os\n",
        "from os import listdir\n",
        "from PIL import Image\n",
        "import seaborn as sns"
      ],
      "metadata": {
        "id": "oOa391t78Nd-"
      },
      "execution_count": 2,
      "outputs": []
    },
    {
      "cell_type": "code",
      "source": [
        "#kaggle dataset download\n",
        "od.download(\"https://www.kaggle.com/datasets/vipoooool/new-plant-diseases-dataset\")"
      ],
      "metadata": {
        "colab": {
          "base_uri": "https://localhost:8080/"
        },
        "id": "IdfK_dQD8Xqr",
        "outputId": "e6b8d003-1076-4466-af32-62acdfeecc95"
      },
      "execution_count": 3,
      "outputs": [
        {
          "output_type": "stream",
          "name": "stdout",
          "text": [
            "Please provide your Kaggle credentials to download this dataset. Learn more: http://bit.ly/kaggle-creds\n",
            "Your Kaggle username: alicjasosialuk\n",
            "Your Kaggle Key: ··········\n",
            "Downloading new-plant-diseases-dataset.zip to ./new-plant-diseases-dataset\n"
          ]
        },
        {
          "output_type": "stream",
          "name": "stderr",
          "text": [
            "100%|██████████| 2.70G/2.70G [00:27<00:00, 107MB/s] \n"
          ]
        },
        {
          "output_type": "stream",
          "name": "stdout",
          "text": [
            "\n"
          ]
        }
      ]
    },
    {
      "cell_type": "code",
      "source": [
        "#just for info{\"username\":\"alicjasosialuk\",\"key\":\"fa69bfa4724b0a10006ba687db303759\"}"
      ],
      "metadata": {
        "id": "Nk6R77YIPEFj"
      },
      "execution_count": null,
      "outputs": []
    },
    {
      "cell_type": "code",
      "source": [
        "#path to datasets\n",
        "data_dir_train = './new-plant-diseases-dataset/New Plant Diseases Dataset(Augmented)/New Plant Diseases Dataset(Augmented)/train'\n",
        "data_dir_val = './new-plant-diseases-dataset/New Plant Diseases Dataset(Augmented)/New Plant Diseases Dataset(Augmented)/valid'\n",
        "data_dir_test = './new-plant-diseases-dataset/test/test'"
      ],
      "metadata": {
        "id": "krbYLZMeUtZG"
      },
      "execution_count": 4,
      "outputs": []
    },
    {
      "cell_type": "code",
      "source": [
        "## Defining batch specfications\n",
        "batch_size = 200\n",
        "img_height = 100\n",
        "img_width = 100"
      ],
      "metadata": {
        "id": "GKQvZKDTwL6E"
      },
      "execution_count": 5,
      "outputs": []
    },
    {
      "cell_type": "code",
      "source": [
        "import tensorflow as tf\n",
        "from tensorflow.keras.layers import Input, Dense, Dropout, Flatten, MaxPooling2D, Conv2D, Activation, BatchNormalization\n",
        "from tensorflow.keras.models import Model, Sequential\n",
        "from tensorflow.keras.utils import to_categorical\n",
        "from tensorflow.keras.optimizers import Adam\n",
        "from tensorflow.keras.losses import CategoricalCrossentropy\n",
        "from tensorflow.keras.regularizers import l2\n",
        "from tensorflow.keras.callbacks import ReduceLROnPlateau, EarlyStopping\n",
        "\n",
        "from sklearn import metrics"
      ],
      "metadata": {
        "id": "5WptUkIxwyhr"
      },
      "execution_count": 17,
      "outputs": []
    },
    {
      "cell_type": "code",
      "source": [
        "# Loading training set\n",
        "from tensorflow.keras.preprocessing.image import ImageDataGenerator\n",
        "train_datagen = ImageDataGenerator(rescale=1.0/255,\n",
        "                                  zoom_range=0.2,\n",
        "                                  width_shift_range=0.2,\n",
        "                                  height_shift_range=0.2,\n",
        "                                  fill_mode='nearest')\n",
        "train_data = train_datagen.flow_from_directory(data_dir_train,\n",
        "                                              batch_size=batch_size,\n",
        "                                              target_size=(img_height, img_width),\n",
        "                                              class_mode = 'categorical',\n",
        "                                              shuffle=True)"
      ],
      "metadata": {
        "colab": {
          "base_uri": "https://localhost:8080/"
        },
        "id": "GHVLwN2rwL90",
        "outputId": "d25a21c9-d37f-4192-a46e-f14db3da05d4"
      },
      "execution_count": 7,
      "outputs": [
        {
          "output_type": "stream",
          "name": "stdout",
          "text": [
            "Found 70295 images belonging to 38 classes.\n"
          ]
        }
      ]
    },
    {
      "cell_type": "code",
      "source": [
        "## loading validation set\n",
        "valdata_generator=tf.keras.preprocessing.image.ImageDataGenerator(rescale=1./255)\n",
        "val_data = valdata_generator.flow_from_directory(data_dir_val,\n",
        "                                            batch_size=batch_size,\n",
        "                                            target_size=(img_height, img_width),\n",
        "                                            class_mode = 'categorical',\n",
        "                                            shuffle=False)"
      ],
      "metadata": {
        "colab": {
          "base_uri": "https://localhost:8080/"
        },
        "id": "Kc8XzYiWwMBU",
        "outputId": "7142a306-ed8a-44bb-bcbe-0f268cb9f5a9"
      },
      "execution_count": 8,
      "outputs": [
        {
          "output_type": "stream",
          "name": "stdout",
          "text": [
            "Found 17572 images belonging to 38 classes.\n"
          ]
        }
      ]
    },
    {
      "cell_type": "code",
      "source": [
        "## Defining model layers\n",
        "#inputs = Input(shape = (256, 256,3), name = \"Input\")\n",
        "\n",
        "#first_layer = Conv2D(filters = 32,\n",
        "#                     kernel_size = (5, 5),\n",
        "#                     padding = 'valid',\n",
        "#                     activation = 'relu')\n",
        "\n",
        "#second_layer = MaxPooling2D(pool_size = (2, 2))\n",
        "\n",
        "#third_layer = Dropout(rate = 0.2)\n",
        "\n",
        "#fourth_layer = Flatten()\n",
        "\n",
        "#fifth_layer = Dense(units = 128,\n",
        "#                    activation = 'relu')\n",
        "\n",
        "#output_layer = Dense(units = 38,\n",
        "                     activation='softmax')\n",
        "\n",
        "#x=first_layer(inputs)\n",
        "#x=second_layer(x)\n",
        "#x=third_layer(x)\n",
        "#x=fourth_layer(x)\n",
        "#x=fifth_layer(x)\n",
        "\n",
        "#outputs=output_layer(x)\n",
        "\n",
        "#cnn_model = Model(inputs = inputs, outputs = outputs)\n",
        "\n"
      ],
      "metadata": {
        "id": "L1S328RuwMFF"
      },
      "execution_count": 9,
      "outputs": []
    },
    {
      "cell_type": "code",
      "source": [
        "def create_model():\n",
        "    model = Sequential([\n",
        "        Conv2D(filters=128, kernel_size=(5, 5), padding='valid', input_shape=(img_width, img_height, 3)),\n",
        "        Activation('relu'),\n",
        "        MaxPooling2D(pool_size=(2, 2)),\n",
        "        BatchNormalization(),\n",
        "\n",
        "        Conv2D(filters=64, kernel_size=(3, 3), padding='valid', kernel_regularizer=l2(0.00005)),\n",
        "        Activation('relu'),\n",
        "        MaxPooling2D(pool_size=(2, 2)),\n",
        "        BatchNormalization(),\n",
        "\n",
        "        Conv2D(filters=32, kernel_size=(3, 3), padding='valid', kernel_regularizer=l2(0.00005)),\n",
        "        Activation('relu'),\n",
        "        MaxPooling2D(pool_size=(2, 2)),\n",
        "        BatchNormalization(),\n",
        "\n",
        "        Flatten(),\n",
        "\n",
        "        Dense(units=256, activation='relu'),\n",
        "        Dropout(0.5),\n",
        "        Dense(units=128, activation='relu'),\n",
        "        Dropout(0.5),\n",
        "        Dense(units=38, activation='sigmoid')\n",
        "    ])\n",
        "\n",
        "    return model"
      ],
      "metadata": {
        "id": "Cj9IJy4Ng05N"
      },
      "execution_count": 18,
      "outputs": []
    },
    {
      "cell_type": "code",
      "source": [
        "cnn_model = create_model()"
      ],
      "metadata": {
        "id": "uCObMs6-g7g2"
      },
      "execution_count": 19,
      "outputs": []
    },
    {
      "cell_type": "code",
      "source": [
        "cnn_model.compile(loss='categorical_crossentropy', # loss function\n",
        "                  optimizer='adam',                # gradien descent algorithm\n",
        "                  metrics=['accuracy'])           # accuracy metric)\n"
      ],
      "metadata": {
        "id": "VesNkrG5wMIp"
      },
      "execution_count": 20,
      "outputs": []
    },
    {
      "cell_type": "code",
      "source": [
        "print(cnn_model.summary())\n"
      ],
      "metadata": {
        "colab": {
          "base_uri": "https://localhost:8080/"
        },
        "id": "NAbAMz6EwgDU",
        "outputId": "750fec93-9682-4322-b4ac-39431ae9ed2e"
      },
      "execution_count": 21,
      "outputs": [
        {
          "output_type": "stream",
          "name": "stdout",
          "text": [
            "Model: \"sequential\"\n",
            "_________________________________________________________________\n",
            " Layer (type)                Output Shape              Param #   \n",
            "=================================================================\n",
            " conv2d_1 (Conv2D)           (None, 96, 96, 128)       9728      \n",
            "                                                                 \n",
            " activation (Activation)     (None, 96, 96, 128)       0         \n",
            "                                                                 \n",
            " max_pooling2d_1 (MaxPoolin  (None, 48, 48, 128)       0         \n",
            " g2D)                                                            \n",
            "                                                                 \n",
            " batch_normalization (Batch  (None, 48, 48, 128)       512       \n",
            " Normalization)                                                  \n",
            "                                                                 \n",
            " conv2d_2 (Conv2D)           (None, 46, 46, 64)        73792     \n",
            "                                                                 \n",
            " activation_1 (Activation)   (None, 46, 46, 64)        0         \n",
            "                                                                 \n",
            " max_pooling2d_2 (MaxPoolin  (None, 23, 23, 64)        0         \n",
            " g2D)                                                            \n",
            "                                                                 \n",
            " batch_normalization_1 (Bat  (None, 23, 23, 64)        256       \n",
            " chNormalization)                                                \n",
            "                                                                 \n",
            " conv2d_3 (Conv2D)           (None, 21, 21, 32)        18464     \n",
            "                                                                 \n",
            " activation_2 (Activation)   (None, 21, 21, 32)        0         \n",
            "                                                                 \n",
            " max_pooling2d_3 (MaxPoolin  (None, 10, 10, 32)        0         \n",
            " g2D)                                                            \n",
            "                                                                 \n",
            " batch_normalization_2 (Bat  (None, 10, 10, 32)        128       \n",
            " chNormalization)                                                \n",
            "                                                                 \n",
            " flatten_1 (Flatten)         (None, 3200)              0         \n",
            "                                                                 \n",
            " dense_2 (Dense)             (None, 256)               819456    \n",
            "                                                                 \n",
            " dropout_1 (Dropout)         (None, 256)               0         \n",
            "                                                                 \n",
            " dense_3 (Dense)             (None, 128)               32896     \n",
            "                                                                 \n",
            " dropout_2 (Dropout)         (None, 128)               0         \n",
            "                                                                 \n",
            " dense_4 (Dense)             (None, 38)                4902      \n",
            "                                                                 \n",
            "=================================================================\n",
            "Total params: 960134 (3.66 MB)\n",
            "Trainable params: 959686 (3.66 MB)\n",
            "Non-trainable params: 448 (1.75 KB)\n",
            "_________________________________________________________________\n",
            "None\n"
          ]
        }
      ]
    },
    {
      "cell_type": "code",
      "source": [
        "training_history = cnn_model.fit(val_data,\n",
        "                                 validation_data= val_data,\n",
        "                                 epochs = 10,\n",
        "                                 batch_size = 100)"
      ],
      "metadata": {
        "colab": {
          "base_uri": "https://localhost:8080/"
        },
        "id": "jLWQwe_XwMME",
        "outputId": "45d21758-fd7f-4625-f82a-c18834ad9ee1"
      },
      "execution_count": 23,
      "outputs": [
        {
          "output_type": "stream",
          "name": "stdout",
          "text": [
            "Epoch 1/10\n",
            "88/88 [==============================] - 1396s 16s/step - loss: 3.8452 - accuracy: 0.0455 - val_loss: 3.5622 - val_accuracy: 0.0484\n",
            "Epoch 2/10\n",
            "88/88 [==============================] - 1409s 16s/step - loss: 3.5403 - accuracy: 0.0670 - val_loss: 3.8195 - val_accuracy: 0.0280\n",
            "Epoch 3/10\n",
            "88/88 [==============================] - 1461s 17s/step - loss: 3.4688 - accuracy: 0.0852 - val_loss: 4.0355 - val_accuracy: 0.0411\n",
            "Epoch 4/10\n",
            "88/88 [==============================] - 1404s 16s/step - loss: 3.3715 - accuracy: 0.1180 - val_loss: 3.3004 - val_accuracy: 0.1062\n",
            "Epoch 5/10\n",
            "88/88 [==============================] - 1398s 16s/step - loss: 3.2568 - accuracy: 0.1340 - val_loss: 3.3477 - val_accuracy: 0.1113\n",
            "Epoch 6/10\n",
            "88/88 [==============================] - 1380s 16s/step - loss: 3.1596 - accuracy: 0.1558 - val_loss: 3.2898 - val_accuracy: 0.1049\n",
            "Epoch 7/10\n",
            "88/88 [==============================] - 1419s 16s/step - loss: 3.0552 - accuracy: 0.1788 - val_loss: 2.8686 - val_accuracy: 0.2524\n",
            "Epoch 8/10\n",
            "88/88 [==============================] - 1382s 16s/step - loss: 2.9129 - accuracy: 0.2112 - val_loss: 2.8388 - val_accuracy: 0.2411\n",
            "Epoch 9/10\n",
            "88/88 [==============================] - 1388s 16s/step - loss: 2.8146 - accuracy: 0.2291 - val_loss: 2.8120 - val_accuracy: 0.2416\n",
            "Epoch 10/10\n",
            "88/88 [==============================] - 1378s 16s/step - loss: 2.6873 - accuracy: 0.2653 - val_loss: 2.5981 - val_accuracy: 0.3279\n"
          ]
        }
      ]
    },
    {
      "cell_type": "code",
      "source": [],
      "metadata": {
        "id": "Yl6B6DGvwMPp"
      },
      "execution_count": null,
      "outputs": []
    },
    {
      "cell_type": "code",
      "source": [],
      "metadata": {
        "id": "MJu-B_4XwMS_"
      },
      "execution_count": null,
      "outputs": []
    },
    {
      "cell_type": "code",
      "source": [],
      "metadata": {
        "id": "cRinOrORwMXH"
      },
      "execution_count": null,
      "outputs": []
    }
  ]
}